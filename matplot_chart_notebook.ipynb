{
 "cells": [
  {
   "cell_type": "markdown",
   "metadata": {},
   "source": [
    "# Chart Library Notebook\n",
    "\n",
    "This notebook will begin the basis for production level chart library using the agmktdb."
   ]
  },
  {
   "cell_type": "code",
   "execution_count": 8,
   "metadata": {},
   "outputs": [
    {
     "name": "stdout",
     "output_type": "stream",
     "text": [
      "Libraries imported!!\n"
     ]
    }
   ],
   "source": [
    "import os\n",
    "\n",
    "# Data science\n",
    "import pandas as pd\n",
    "import matplotlib.pyplot as plt\n",
    "import seaborn as sns\n",
    "\n",
    "# Database\n",
    "from sqlalchemy import create_engine\n",
    "import psycopg2\n",
    "import agmkt_pkg.nass as nass\n",
    "import agmkt_pkg.ams as ams\n",
    "import agmkt_pkg.env_vars as env_vars\n",
    "import agmkt_pkg.utils as utils\n",
    "\n",
    "# style sheets\n",
    "# plt.style.use('fivethirtyeight')\n",
    "plt.style.use('./style_sheets/agmktstyle.mplstyle')\n",
    "\n",
    "print('Libraries imported!!')"
   ]
  },
  {
   "cell_type": "markdown",
   "metadata": {},
   "source": [
    "# Create SELECT statement to pull raw data"
   ]
  },
  {
   "cell_type": "code",
   "execution_count": 9,
   "metadata": {},
   "outputs": [],
   "source": [
    "# create sql connection\n",
    "user = env_vars.mktdb_user()\n",
    "password = env_vars.mktdb_passwd()\n",
    "server = env_vars.mktdb_server()\n",
    "\n",
    "\n",
    "connection_string = f'postgresql://{user}:{password}@{server}/mktdb'\n",
    "eng = create_engine(connection_string)\n",
    "conn = eng.connect()"
   ]
  },
  {
   "cell_type": "code",
   "execution_count": 10,
   "metadata": {},
   "outputs": [
    {
     "name": "stdout",
     "output_type": "stream",
     "text": [
      "<class 'pandas.core.frame.DataFrame'>\n",
      "DatetimeIndex: 650 entries, 2021-04-01 to 2025-01-17\n",
      "Data columns (total 55 columns):\n",
      " #   Column                   Non-Null Count  Dtype         \n",
      "---  ------                   --------------  -----         \n",
      " 0   report_begin_date        650 non-null    datetime64[ns]\n",
      " 1   report_end_date          650 non-null    datetime64[ns]\n",
      " 2   published_date           650 non-null    datetime64[ns]\n",
      " 3   office_name              650 non-null    object        \n",
      " 4   office_city              650 non-null    object        \n",
      " 5   office_state             650 non-null    object        \n",
      " 6   market_type              650 non-null    object        \n",
      " 7   market_location_name     650 non-null    object        \n",
      " 8   market_location_city     0 non-null      object        \n",
      " 9   market_location_state    650 non-null    object        \n",
      " 10  slug_id                  650 non-null    int64         \n",
      " 11  slug_name                650 non-null    object        \n",
      " 12  report_title             650 non-null    object        \n",
      " 13  grp                      650 non-null    object        \n",
      " 14  cat                      650 non-null    object        \n",
      " 15  commodity                650 non-null    object        \n",
      " 16  location_State           0 non-null      object        \n",
      " 17  location_City            0 non-null      object        \n",
      " 18  trade_loc                650 non-null    object        \n",
      " 19  class                    650 non-null    object        \n",
      " 20  grade                    650 non-null    object        \n",
      " 21  protein                  0 non-null      object        \n",
      " 22  application              0 non-null      object        \n",
      " 23  pkg                      650 non-null    object        \n",
      " 24  desc                     0 non-null      object        \n",
      " 25  quote_type               650 non-null    object        \n",
      " 26  delivery_point           650 non-null    object        \n",
      " 27  conventional             650 non-null    object        \n",
      " 28  basis_unit               650 non-null    object        \n",
      " 29  sale Type                650 non-null    object        \n",
      " 30  basis Min                650 non-null    float64       \n",
      " 31  basis Min Futures Month  650 non-null    object        \n",
      " 32  basis Max                650 non-null    float64       \n",
      " 33  basis Max Futures Month  650 non-null    object        \n",
      " 34  basis Min Change         633 non-null    float64       \n",
      " 35  basis Min Direction      633 non-null    object        \n",
      " 36  basis Max Change         633 non-null    float64       \n",
      " 37  basis Max Direction      633 non-null    object        \n",
      " 38  price_unit               650 non-null    object        \n",
      " 39  price Min                650 non-null    float64       \n",
      " 40  price Max                650 non-null    float64       \n",
      " 41  price Min Change         644 non-null    float64       \n",
      " 42  price Min Direction      644 non-null    object        \n",
      " 43  price Max Change         644 non-null    float64       \n",
      " 44  price Max Direction      644 non-null    object        \n",
      " 45  avg_price                650 non-null    float64       \n",
      " 46  avg_price_year_ago       396 non-null    float64       \n",
      " 47  freight                  650 non-null    object        \n",
      " 48  trans_mode               650 non-null    object        \n",
      " 49  current                  650 non-null    object        \n",
      " 50  delivery_start           0 non-null      object        \n",
      " 51  delivery Start Half      0 non-null      object        \n",
      " 52  delivery_end             0 non-null      object        \n",
      " 53  delivery End Half        0 non-null      object        \n",
      " 54  basis Mid                650 non-null    float64       \n",
      "dtypes: datetime64[ns](3), float64(11), int64(1), object(40)\n",
      "memory usage: 284.4+ KB\n",
      "None\n"
     ]
    }
   ],
   "source": [
    "stmt_dict0 = {'commodity':'Corn', 'class':'Yellow', 'grade':'US #2', \n",
    "             'market_location_state':'VA', 'trade_loc':'Norfolk Terminal Area', 'delivery_point':'Terminal Elevators', \n",
    "             'freight':'Delivered', 'trans_mode':'Truck', 'current':'Yes'}\n",
    "\n",
    "df0 = ams.df_grain_time_series_chart(stmt_dict0, conn, table='mars_grain_bids')\n",
    "\n",
    "print(df0.info())\n"
   ]
  },
  {
   "cell_type": "code",
   "execution_count": 11,
   "metadata": {},
   "outputs": [],
   "source": [
    "stmt_dict = {'COMMODITY_DESC':'CORN', 'PRODN_PRACTICE_DESC':'ALL PRODUCTION PRACTICES', \n",
    "             'UTIL_PRACTICE_DESC':'GRAIN', \n",
    "            # 'CLASS_DESC':'OIL TYPE',\n",
    "             'STATISTICCAT_DESC':'AREA HARVESTED', 'UNIT_DESC':'ACRES', 'AGG_LEVEL_DESC':'NATIONAL', 'REFERENCE_PERIOD_DESC':'YEAR'}\n",
    "\n",
    "df = nass.df_time_series_chart(stmt_dict=stmt_dict, db_connect=conn)\n"
   ]
  },
  {
   "cell_type": "code",
   "execution_count": 12,
   "metadata": {},
   "outputs": [],
   "source": [
    "keys = ['COMMODITY_DESC', 'CLASS_DESC', 'STATISTICCAT_DESC', 'UNIT_DESC', 'STATE_ALPHA']\n",
    "\n",
    "filename = ''\n",
    "\n",
    "for key in keys:\n",
    "    if stmt_dict.get(key) == None:\n",
    "        next\n",
    "    else:\n",
    "        filename += stmt_dict.get(key).lower() + '_'\n",
    "\n",
    "filename = filename[:-1] + '.png'\n"
   ]
  },
  {
   "cell_type": "markdown",
   "metadata": {},
   "source": [
    "# Manipulate data for data visualization"
   ]
  },
  {
   "cell_type": "code",
   "execution_count": 13,
   "metadata": {},
   "outputs": [],
   "source": [
    "# print(df.info())\n",
    "\n",
    "# df_trim = utils.keep_cols(df, default_cols=['SHORT_DESC'])\n",
    "\n",
    "# print(df_trim.info())\n"
   ]
  },
  {
   "cell_type": "markdown",
   "metadata": {},
   "source": [
    "# Create Visualziation and save image to folder"
   ]
  },
  {
   "cell_type": "code",
   "execution_count": 14,
   "metadata": {},
   "outputs": [],
   "source": [
    "# scale_dict = {\n",
    "#     'Unit':{'value':1, 'label':''},\n",
    "#     'Thousand':{'value':1e3, 'label':'Thousand'},\n",
    "#     'Million':{'value':1e6, 'label':'Million'},\n",
    "#     'Billion':{'value':1e9, 'label':'Billion'},\n",
    "# }\n",
    "\n",
    "# df_viz = df[df['date'].dt.year >= df['date'].dt.year.max() - 50]\n",
    "\n",
    "# str_commodity = stmt_dict['COMMODITY_DESC'].title()\n",
    "# str_statistic = stmt_dict['STATISTICCAT_DESC'].title()\n",
    "# str_unit = stmt_dict['UNIT_DESC'].title()\n",
    "\n",
    "# plt.subplot()\n",
    "# scale = 'Unit'\n",
    "# scale_value = scale_dict[scale]['value']\n",
    "# scale_label = scale_dict[scale]['label']\n",
    "# sns.lineplot(data=df_viz, x='date', y=df['VALUE']/scale_value)\n",
    "# sns.scatterplot(data=df_viz, x='date', y=df['VALUE']/scale_value)\n",
    "# plt.title(f'U.S. {str_commodity} {str_statistic}')\n",
    "# plt.ylabel(f'{scale_label} {str_unit}')\n",
    "# plt.xlabel('Crop Year')\n",
    "# plt.show()"
   ]
  },
  {
   "cell_type": "code",
   "execution_count": 15,
   "metadata": {},
   "outputs": [
    {
     "name": "stdout",
     "output_type": "stream",
     "text": [
      "Matplot chart saved to ./docs/corn_grain_areaharvested_acres_year.png\n"
     ]
    },
    {
     "data": {
      "text/plain": [
       "<Figure size 640x480 with 0 Axes>"
      ]
     },
     "metadata": {},
     "output_type": "display_data"
    }
   ],
   "source": [
    "nass.time_series_chart(df, stmt_dict, './docs', years = 30, scale='Million')"
   ]
  },
  {
   "cell_type": "code",
   "execution_count": 16,
   "metadata": {},
   "outputs": [
    {
     "data": {
      "image/png": "[encoded data removed]",
      "text/plain": [
       "<Figure size 640x480 with 1 Axes>"
      ]
     },
     "metadata": {},
     "output_type": "display_data"
    }
   ],
   "source": [
    "start_date = '2024-05-01'\n",
    "\n",
    "df_viz = df0[start_date:]\n",
    "\n",
    "str_commodity = stmt_dict0['commodity'].title()\n",
    "str_location = stmt_dict0['trade_loc'].title()\n",
    "str_state = stmt_dict0['market_location_state'].upper()\n",
    "\n",
    "plt.subplot()\n",
    "scale = 'Unit'\n",
    "# scale_value = scale_dict[scale]['value']\n",
    "# scale_label = scale_dict[scale]['label']\n",
    "sns.lineplot(data=df_viz, x=df_viz.index, y='avg_price')\n",
    "sns.scatterplot(data=df_viz, x=df_viz.index, y='avg_price')\n",
    "plt.title(f'{str_commodity} price in {str_location}, {str_state}')\n",
    "plt.xticks(rotation=60)\n",
    "# plt.ylabel(f'{scale_label} {str_unit}')\n",
    "# plt.xlabel('Crop Year')\n",
    "plt.show()"
   ]
  },
  {
   "cell_type": "markdown",
   "metadata": {},
   "source": [
    "## Inventory Charts"
   ]
  },
  {
   "cell_type": "code",
   "execution_count": 17,
   "metadata": {},
   "outputs": [],
   "source": [
    "# Dataframe\n",
    "\n",
    "stmt = {'COMMODITY_DESC':'CORN', 'PRODN_PRACTICE_DESC':'ALL PRODUCTION PRACTICES', \n",
    "        'UTIL_PRACTICE_DESC':['ON FARM, GRAIN', 'OFF FARM, GRAIN'], \n",
    "        'STATISTICCAT_DESC':'STOCKS', 'UNIT_DESC':'BU', 'AGG_LEVEL_DESC':'NATIONAL', 'FREQ_DESC':'POINT IN TIME'}\n",
    "\n",
    "df = nass.df_time_series_chart(stmt, conn, 'nass_crops_fmt')"
   ]
  },
  {
   "cell_type": "code",
   "execution_count": 18,
   "metadata": {},
   "outputs": [
    {
     "name": "stdout",
     "output_type": "stream",
     "text": [
      "AND \"COMMODITY_DESC\" IN ('CORN') AND \"PRODN_PRACTICE_DESC\" IN ('ALL PRODUCTION PRACTICES') AND \"UTIL_PRACTICE_DESC\" IN ('ON FARM, GRAIN', 'OFF FARM, GRAIN'') AND \"STATISTICCAT_DESC\" IN ('STOCKS') AND \"UNIT_DESC\" IN ('BU') AND \"AGG_LEVEL_DESC\" IN ('NATIONAL') AND \"FREQ_DESC\" IN ('POINT IN TIME') \n"
     ]
    }
   ],
   "source": [
    "filter_string = ''\n",
    "\n",
    "for key, value in stmt.items():\n",
    "    try:\n",
    "        if type(stmt.get(key)) == str:\n",
    "            filter_string += f\"\"\"AND \"{key}\" IN ('{value}') \"\"\"\n",
    "        elif type(stmt.get(key)) == list:\n",
    "            list_str = \"\"\n",
    "            for v in value:\n",
    "                list_str += f\"\"\"'{v}', \"\"\"\n",
    "            list_str = list_str[:-2] + \"'\"\n",
    "            filter_string += f\"\"\"AND \"{key}\" IN ({list_str}) \"\"\"\n",
    "        else:\n",
    "            TypeError('Type not found for filter string')\n",
    "    except:\n",
    "        pass\n",
    "    \n",
    "print(filter_string)"
   ]
  },
  {
   "cell_type": "code",
   "execution_count": 19,
   "metadata": {},
   "outputs": [
    {
     "data": {
      "text/html": [
       "<div>\n",
       "<style scoped>\n",
       "    .dataframe tbody tr th:only-of-type {\n",
       "        vertical-align: middle;\n",
       "    }\n",
       "\n",
       "    .dataframe tbody tr th {\n",
       "        vertical-align: top;\n",
       "    }\n",
       "\n",
       "    .dataframe thead th {\n",
       "        text-align: right;\n",
       "    }\n",
       "</style>\n",
       "<table border=\"1\" class=\"dataframe\">\n",
       "  <thead>\n",
       "    <tr style=\"text-align: right;\">\n",
       "      <th></th>\n",
       "      <th>SOURCE_DESC</th>\n",
       "      <th>SECTOR_DESC</th>\n",
       "      <th>GROUP_DESC</th>\n",
       "      <th>COMMODITY_DESC</th>\n",
       "      <th>CLASS_DESC</th>\n",
       "      <th>PRODN_PRACTICE_DESC</th>\n",
       "      <th>UTIL_PRACTICE_DESC</th>\n",
       "      <th>STATISTICCAT_DESC</th>\n",
       "      <th>UNIT_DESC</th>\n",
       "      <th>SHORT_DESC</th>\n",
       "      <th>...</th>\n",
       "      <th>YEAR</th>\n",
       "      <th>FREQ_DESC</th>\n",
       "      <th>BEGIN_CODE</th>\n",
       "      <th>END_CODE</th>\n",
       "      <th>REFERENCE_PERIOD_DESC</th>\n",
       "      <th>WEEK_ENDING</th>\n",
       "      <th>LOAD_TIME</th>\n",
       "      <th>VALUE</th>\n",
       "      <th>CV_%</th>\n",
       "      <th>date</th>\n",
       "    </tr>\n",
       "  </thead>\n",
       "  <tbody>\n",
       "    <tr>\n",
       "      <th>716</th>\n",
       "      <td>SURVEY</td>\n",
       "      <td>CROPS</td>\n",
       "      <td>FIELD CROPS</td>\n",
       "      <td>CORN</td>\n",
       "      <td>ALL CLASSES</td>\n",
       "      <td>ALL PRODUCTION PRACTICES</td>\n",
       "      <td>OFF FARM, GRAIN</td>\n",
       "      <td>STOCKS</td>\n",
       "      <td>BU</td>\n",
       "      <td>CORN, OFF FARM, GRAIN - STOCKS, MEASURED IN BU</td>\n",
       "      <td>...</td>\n",
       "      <td>2021</td>\n",
       "      <td>POINT IN TIME</td>\n",
       "      <td>3</td>\n",
       "      <td>3</td>\n",
       "      <td>FIRST OF MAR</td>\n",
       "      <td>None</td>\n",
       "      <td>2024-01-09 15:00:00</td>\n",
       "      <td>3.770278e+09</td>\n",
       "      <td>None</td>\n",
       "      <td>2021-01-01</td>\n",
       "    </tr>\n",
       "    <tr>\n",
       "      <th>717</th>\n",
       "      <td>SURVEY</td>\n",
       "      <td>CROPS</td>\n",
       "      <td>FIELD CROPS</td>\n",
       "      <td>CORN</td>\n",
       "      <td>ALL CLASSES</td>\n",
       "      <td>ALL PRODUCTION PRACTICES</td>\n",
       "      <td>OFF FARM, GRAIN</td>\n",
       "      <td>STOCKS</td>\n",
       "      <td>BU</td>\n",
       "      <td>CORN, OFF FARM, GRAIN - STOCKS, MEASURED IN BU</td>\n",
       "      <td>...</td>\n",
       "      <td>2022</td>\n",
       "      <td>POINT IN TIME</td>\n",
       "      <td>12</td>\n",
       "      <td>12</td>\n",
       "      <td>FIRST OF DEC</td>\n",
       "      <td>None</td>\n",
       "      <td>2024-01-09 15:00:00</td>\n",
       "      <td>4.073207e+09</td>\n",
       "      <td>None</td>\n",
       "      <td>2022-01-01</td>\n",
       "    </tr>\n",
       "    <tr>\n",
       "      <th>718</th>\n",
       "      <td>SURVEY</td>\n",
       "      <td>CROPS</td>\n",
       "      <td>FIELD CROPS</td>\n",
       "      <td>CORN</td>\n",
       "      <td>ALL CLASSES</td>\n",
       "      <td>ALL PRODUCTION PRACTICES</td>\n",
       "      <td>OFF FARM, GRAIN</td>\n",
       "      <td>STOCKS</td>\n",
       "      <td>BU</td>\n",
       "      <td>CORN, OFF FARM, GRAIN - STOCKS, MEASURED IN BU</td>\n",
       "      <td>...</td>\n",
       "      <td>2024</td>\n",
       "      <td>POINT IN TIME</td>\n",
       "      <td>12</td>\n",
       "      <td>12</td>\n",
       "      <td>FIRST OF DEC</td>\n",
       "      <td>None</td>\n",
       "      <td>2025-01-10 12:00:00</td>\n",
       "      <td>4.411194e+09</td>\n",
       "      <td>None</td>\n",
       "      <td>2024-01-01</td>\n",
       "    </tr>\n",
       "    <tr>\n",
       "      <th>719</th>\n",
       "      <td>SURVEY</td>\n",
       "      <td>CROPS</td>\n",
       "      <td>FIELD CROPS</td>\n",
       "      <td>CORN</td>\n",
       "      <td>ALL CLASSES</td>\n",
       "      <td>ALL PRODUCTION PRACTICES</td>\n",
       "      <td>ON FARM, GRAIN</td>\n",
       "      <td>STOCKS</td>\n",
       "      <td>BU</td>\n",
       "      <td>CORN, ON FARM, GRAIN - STOCKS, MEASURED IN BU</td>\n",
       "      <td>...</td>\n",
       "      <td>2022</td>\n",
       "      <td>POINT IN TIME</td>\n",
       "      <td>12</td>\n",
       "      <td>12</td>\n",
       "      <td>FIRST OF DEC</td>\n",
       "      <td>None</td>\n",
       "      <td>2024-01-09 15:00:00</td>\n",
       "      <td>6.740000e+09</td>\n",
       "      <td>None</td>\n",
       "      <td>2022-01-01</td>\n",
       "    </tr>\n",
       "    <tr>\n",
       "      <th>720</th>\n",
       "      <td>SURVEY</td>\n",
       "      <td>CROPS</td>\n",
       "      <td>FIELD CROPS</td>\n",
       "      <td>CORN</td>\n",
       "      <td>ALL CLASSES</td>\n",
       "      <td>ALL PRODUCTION PRACTICES</td>\n",
       "      <td>ON FARM, GRAIN</td>\n",
       "      <td>STOCKS</td>\n",
       "      <td>BU</td>\n",
       "      <td>CORN, ON FARM, GRAIN - STOCKS, MEASURED IN BU</td>\n",
       "      <td>...</td>\n",
       "      <td>2024</td>\n",
       "      <td>POINT IN TIME</td>\n",
       "      <td>12</td>\n",
       "      <td>12</td>\n",
       "      <td>FIRST OF DEC</td>\n",
       "      <td>None</td>\n",
       "      <td>2025-01-10 12:00:00</td>\n",
       "      <td>7.663000e+09</td>\n",
       "      <td>None</td>\n",
       "      <td>2024-01-01</td>\n",
       "    </tr>\n",
       "  </tbody>\n",
       "</table>\n",
       "<p>5 rows × 35 columns</p>\n",
       "</div>"
      ],
      "text/plain": [
       "    SOURCE_DESC SECTOR_DESC   GROUP_DESC COMMODITY_DESC   CLASS_DESC  \\\n",
       "716      SURVEY       CROPS  FIELD CROPS           CORN  ALL CLASSES   \n",
       "717      SURVEY       CROPS  FIELD CROPS           CORN  ALL CLASSES   \n",
       "718      SURVEY       CROPS  FIELD CROPS           CORN  ALL CLASSES   \n",
       "719      SURVEY       CROPS  FIELD CROPS           CORN  ALL CLASSES   \n",
       "720      SURVEY       CROPS  FIELD CROPS           CORN  ALL CLASSES   \n",
       "\n",
       "          PRODN_PRACTICE_DESC UTIL_PRACTICE_DESC STATISTICCAT_DESC UNIT_DESC  \\\n",
       "716  ALL PRODUCTION PRACTICES    OFF FARM, GRAIN            STOCKS        BU   \n",
       "717  ALL PRODUCTION PRACTICES    OFF FARM, GRAIN            STOCKS        BU   \n",
       "718  ALL PRODUCTION PRACTICES    OFF FARM, GRAIN            STOCKS        BU   \n",
       "719  ALL PRODUCTION PRACTICES     ON FARM, GRAIN            STOCKS        BU   \n",
       "720  ALL PRODUCTION PRACTICES     ON FARM, GRAIN            STOCKS        BU   \n",
       "\n",
       "                                         SHORT_DESC  ...  YEAR      FREQ_DESC  \\\n",
       "716  CORN, OFF FARM, GRAIN - STOCKS, MEASURED IN BU  ...  2021  POINT IN TIME   \n",
       "717  CORN, OFF FARM, GRAIN - STOCKS, MEASURED IN BU  ...  2022  POINT IN TIME   \n",
       "718  CORN, OFF FARM, GRAIN - STOCKS, MEASURED IN BU  ...  2024  POINT IN TIME   \n",
       "719   CORN, ON FARM, GRAIN - STOCKS, MEASURED IN BU  ...  2022  POINT IN TIME   \n",
       "720   CORN, ON FARM, GRAIN - STOCKS, MEASURED IN BU  ...  2024  POINT IN TIME   \n",
       "\n",
       "    BEGIN_CODE END_CODE REFERENCE_PERIOD_DESC WEEK_ENDING           LOAD_TIME  \\\n",
       "716          3        3          FIRST OF MAR        None 2024-01-09 15:00:00   \n",
       "717         12       12          FIRST OF DEC        None 2024-01-09 15:00:00   \n",
       "718         12       12          FIRST OF DEC        None 2025-01-10 12:00:00   \n",
       "719         12       12          FIRST OF DEC        None 2024-01-09 15:00:00   \n",
       "720         12       12          FIRST OF DEC        None 2025-01-10 12:00:00   \n",
       "\n",
       "            VALUE  CV_%       date  \n",
       "716  3.770278e+09  None 2021-01-01  \n",
       "717  4.073207e+09  None 2022-01-01  \n",
       "718  4.411194e+09  None 2024-01-01  \n",
       "719  6.740000e+09  None 2022-01-01  \n",
       "720  7.663000e+09  None 2024-01-01  \n",
       "\n",
       "[5 rows x 35 columns]"
      ]
     },
     "metadata": {},
     "output_type": "display_data"
    }
   ],
   "source": [
    "display(df.tail())"
   ]
  },
  {
   "cell_type": "code",
   "execution_count": 64,
   "metadata": {},
   "outputs": [
    {
     "ename": "ValueError",
     "evalue": "Length mismatch: Expected axis has 0 elements, new values have 2 elements",
     "output_type": "error",
     "traceback": [
      "\u001b[0;31m---------------------------------------------------------------------------\u001b[0m",
      "\u001b[0;31mValueError\u001b[0m                                Traceback (most recent call last)",
      "Cell \u001b[0;32mIn[64], line 3\u001b[0m\n\u001b[1;32m      1\u001b[0m df_viz \u001b[38;5;241m=\u001b[39m df[(df[\u001b[38;5;124m'\u001b[39m\u001b[38;5;124mdate\u001b[39m\u001b[38;5;124m'\u001b[39m]\u001b[38;5;241m.\u001b[39mdt\u001b[38;5;241m.\u001b[39myear \u001b[38;5;241m>\u001b[39m \u001b[38;5;241m2010\u001b[39m) \u001b[38;5;241m&\u001b[39m df[\u001b[38;5;124m'\u001b[39m\u001b[38;5;124mdate\u001b[39m\u001b[38;5;124m'\u001b[39m]\u001b[38;5;241m.\u001b[39mdt\u001b[38;5;241m.\u001b[39mmonth \u001b[38;5;241m>\u001b[39m \u001b[38;5;241m11\u001b[39m]\n\u001b[1;32m      2\u001b[0m df_viz \u001b[38;5;241m=\u001b[39m df_viz\u001b[38;5;241m.\u001b[39mpivot_table(index\u001b[38;5;241m=\u001b[39m\u001b[38;5;124m'\u001b[39m\u001b[38;5;124mdate\u001b[39m\u001b[38;5;124m'\u001b[39m, columns\u001b[38;5;241m=\u001b[39m\u001b[38;5;124m'\u001b[39m\u001b[38;5;124mUTIL_PRACTICE_DESC\u001b[39m\u001b[38;5;124m'\u001b[39m, values\u001b[38;5;241m=\u001b[39m\u001b[38;5;124m'\u001b[39m\u001b[38;5;124mVALUE\u001b[39m\u001b[38;5;124m'\u001b[39m)\n\u001b[0;32m----> 3\u001b[0m \u001b[43mdf_viz\u001b[49m\u001b[38;5;241;43m.\u001b[39;49m\u001b[43mcolumns\u001b[49m \u001b[38;5;241m=\u001b[39m [\u001b[38;5;124m'\u001b[39m\u001b[38;5;124mOFF FARM\u001b[39m\u001b[38;5;124m'\u001b[39m, \u001b[38;5;124m'\u001b[39m\u001b[38;5;124mON FARM\u001b[39m\u001b[38;5;124m'\u001b[39m]\n\u001b[1;32m      4\u001b[0m df_viz\u001b[38;5;241m.\u001b[39mhead()\n\u001b[1;32m      6\u001b[0m \u001b[38;5;66;03m# ax, fig = plt.subplots(1, 4)\u001b[39;00m\n\u001b[1;32m      7\u001b[0m \u001b[38;5;66;03m# g = sns.FacetGrid(df_viz, col = 'BEGIN_CODE')\u001b[39;00m\n\u001b[1;32m      8\u001b[0m \u001b[38;5;66;03m# g = (g.map(sns.barplot, 'YEAR', 'VALUE', color='UTIL_PRACTICE_DESC', ci=None).add_legend())\u001b[39;00m\n\u001b[1;32m      9\u001b[0m \u001b[38;5;66;03m# ax, fig = plt.subplots()\u001b[39;00m\n\u001b[1;32m     10\u001b[0m \u001b[38;5;66;03m# sns.catplot(df_viz, kind='bar', x='YEAR', y='VALUE', hue='UTIL_PRACTICE_DESC', col='BEGIN_CODE', col_wrap=2)\u001b[39;00m\n\u001b[1;32m     11\u001b[0m \u001b[38;5;66;03m# plt.bar(x=df_viz['date'].dt.month, y=df_viz['ON FARM'])\u001b[39;00m\n",
      "File \u001b[0;32m~/CodesAndApps/agmkt/venv/lib/python3.10/site-packages/pandas/core/generic.py:6313\u001b[0m, in \u001b[0;36mNDFrame.__setattr__\u001b[0;34m(self, name, value)\u001b[0m\n\u001b[1;32m   6311\u001b[0m \u001b[38;5;28;01mtry\u001b[39;00m:\n\u001b[1;32m   6312\u001b[0m     \u001b[38;5;28mobject\u001b[39m\u001b[38;5;241m.\u001b[39m\u001b[38;5;21m__getattribute__\u001b[39m(\u001b[38;5;28mself\u001b[39m, name)\n\u001b[0;32m-> 6313\u001b[0m     \u001b[38;5;28;01mreturn\u001b[39;00m \u001b[38;5;28;43mobject\u001b[39;49m\u001b[38;5;241;43m.\u001b[39;49m\u001b[38;5;21;43m__setattr__\u001b[39;49m\u001b[43m(\u001b[49m\u001b[38;5;28;43mself\u001b[39;49m\u001b[43m,\u001b[49m\u001b[43m \u001b[49m\u001b[43mname\u001b[49m\u001b[43m,\u001b[49m\u001b[43m \u001b[49m\u001b[43mvalue\u001b[49m\u001b[43m)\u001b[49m\n\u001b[1;32m   6314\u001b[0m \u001b[38;5;28;01mexcept\u001b[39;00m \u001b[38;5;167;01mAttributeError\u001b[39;00m:\n\u001b[1;32m   6315\u001b[0m     \u001b[38;5;28;01mpass\u001b[39;00m\n",
      "File \u001b[0;32mproperties.pyx:69\u001b[0m, in \u001b[0;36mpandas._libs.properties.AxisProperty.__set__\u001b[0;34m()\u001b[0m\n",
      "File \u001b[0;32m~/CodesAndApps/agmkt/venv/lib/python3.10/site-packages/pandas/core/generic.py:814\u001b[0m, in \u001b[0;36mNDFrame._set_axis\u001b[0;34m(self, axis, labels)\u001b[0m\n\u001b[1;32m    809\u001b[0m \u001b[38;5;250m\u001b[39m\u001b[38;5;124;03m\"\"\"\u001b[39;00m\n\u001b[1;32m    810\u001b[0m \u001b[38;5;124;03mThis is called from the cython code when we set the `index` attribute\u001b[39;00m\n\u001b[1;32m    811\u001b[0m \u001b[38;5;124;03mdirectly, e.g. `series.index = [1, 2, 3]`.\u001b[39;00m\n\u001b[1;32m    812\u001b[0m \u001b[38;5;124;03m\"\"\"\u001b[39;00m\n\u001b[1;32m    813\u001b[0m labels \u001b[38;5;241m=\u001b[39m ensure_index(labels)\n\u001b[0;32m--> 814\u001b[0m \u001b[38;5;28;43mself\u001b[39;49m\u001b[38;5;241;43m.\u001b[39;49m\u001b[43m_mgr\u001b[49m\u001b[38;5;241;43m.\u001b[39;49m\u001b[43mset_axis\u001b[49m\u001b[43m(\u001b[49m\u001b[43maxis\u001b[49m\u001b[43m,\u001b[49m\u001b[43m \u001b[49m\u001b[43mlabels\u001b[49m\u001b[43m)\u001b[49m\n\u001b[1;32m    815\u001b[0m \u001b[38;5;28mself\u001b[39m\u001b[38;5;241m.\u001b[39m_clear_item_cache()\n",
      "File \u001b[0;32m~/CodesAndApps/agmkt/venv/lib/python3.10/site-packages/pandas/core/internals/managers.py:238\u001b[0m, in \u001b[0;36mBaseBlockManager.set_axis\u001b[0;34m(self, axis, new_labels)\u001b[0m\n\u001b[1;32m    236\u001b[0m \u001b[38;5;28;01mdef\u001b[39;00m \u001b[38;5;21mset_axis\u001b[39m(\u001b[38;5;28mself\u001b[39m, axis: AxisInt, new_labels: Index) \u001b[38;5;241m-\u001b[39m\u001b[38;5;241m>\u001b[39m \u001b[38;5;28;01mNone\u001b[39;00m:\n\u001b[1;32m    237\u001b[0m     \u001b[38;5;66;03m# Caller is responsible for ensuring we have an Index object.\u001b[39;00m\n\u001b[0;32m--> 238\u001b[0m     \u001b[38;5;28;43mself\u001b[39;49m\u001b[38;5;241;43m.\u001b[39;49m\u001b[43m_validate_set_axis\u001b[49m\u001b[43m(\u001b[49m\u001b[43maxis\u001b[49m\u001b[43m,\u001b[49m\u001b[43m \u001b[49m\u001b[43mnew_labels\u001b[49m\u001b[43m)\u001b[49m\n\u001b[1;32m    239\u001b[0m     \u001b[38;5;28mself\u001b[39m\u001b[38;5;241m.\u001b[39maxes[axis] \u001b[38;5;241m=\u001b[39m new_labels\n",
      "File \u001b[0;32m~/CodesAndApps/agmkt/venv/lib/python3.10/site-packages/pandas/core/internals/base.py:98\u001b[0m, in \u001b[0;36mDataManager._validate_set_axis\u001b[0;34m(self, axis, new_labels)\u001b[0m\n\u001b[1;32m     95\u001b[0m     \u001b[38;5;28;01mpass\u001b[39;00m\n\u001b[1;32m     97\u001b[0m \u001b[38;5;28;01melif\u001b[39;00m new_len \u001b[38;5;241m!=\u001b[39m old_len:\n\u001b[0;32m---> 98\u001b[0m     \u001b[38;5;28;01mraise\u001b[39;00m \u001b[38;5;167;01mValueError\u001b[39;00m(\n\u001b[1;32m     99\u001b[0m         \u001b[38;5;124mf\u001b[39m\u001b[38;5;124m\"\u001b[39m\u001b[38;5;124mLength mismatch: Expected axis has \u001b[39m\u001b[38;5;132;01m{\u001b[39;00mold_len\u001b[38;5;132;01m}\u001b[39;00m\u001b[38;5;124m elements, new \u001b[39m\u001b[38;5;124m\"\u001b[39m\n\u001b[1;32m    100\u001b[0m         \u001b[38;5;124mf\u001b[39m\u001b[38;5;124m\"\u001b[39m\u001b[38;5;124mvalues have \u001b[39m\u001b[38;5;132;01m{\u001b[39;00mnew_len\u001b[38;5;132;01m}\u001b[39;00m\u001b[38;5;124m elements\u001b[39m\u001b[38;5;124m\"\u001b[39m\n\u001b[1;32m    101\u001b[0m     )\n",
      "\u001b[0;31mValueError\u001b[0m: Length mismatch: Expected axis has 0 elements, new values have 2 elements"
     ]
    }
   ],
   "source": [
    "df_viz = df[(df['date'].dt.year > 2010) & df['date'].dt.month > 11]\n",
    "df_viz = df_viz.pivot_table(index='date', columns='UTIL_PRACTICE_DESC', values='VALUE')\n",
    "df_viz.columns = ['OFF FARM', 'ON FARM']\n",
    "df_viz.head()\n",
    "\n",
    "# ax, fig = plt.subplots(1, 4)\n",
    "# g = sns.FacetGrid(df_viz, col = 'BEGIN_CODE')\n",
    "# g = (g.map(sns.barplot, 'YEAR', 'VALUE', color='UTIL_PRACTICE_DESC', ci=None).add_legend())\n",
    "# ax, fig = plt.subplots()\n",
    "# sns.catplot(df_viz, kind='bar', x='YEAR', y='VALUE', hue='UTIL_PRACTICE_DESC', col='BEGIN_CODE', col_wrap=2)\n",
    "# plt.bar(x=df_viz['date'].dt.month, y=df_viz['ON FARM'])\n",
    "df_viz.plot(kind='bar', stacked=True, color=['blue', 'green'])\n",
    "plt.show()\n"
   ]
  },
  {
   "cell_type": "code",
   "execution_count": null,
   "metadata": {},
   "outputs": [],
   "source": []
  }
 ],
 "metadata": {
  "kernelspec": {
   "display_name": "venv",
   "language": "python",
   "name": "python3"
  },
  "language_info": {
   "codemirror_mode": {
    "name": "ipython",
    "version": 3
   },
   "file_extension": ".py",
   "mimetype": "text/x-python",
   "name": "python",
   "nbconvert_exporter": "python",
   "pygments_lexer": "ipython3",
   "version": "3.10.16"
  }
 },
 "nbformat": 4,
 "nbformat_minor": 2
}
